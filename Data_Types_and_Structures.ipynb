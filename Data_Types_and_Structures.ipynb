{
  "cells": [
    {
      "cell_type": "markdown",
      "metadata": {
        "id": "tEnEQXXKL9SK"
      },
      "source": [
        "---\n",
        "# Data Types And Structures Theoretical Answers\n",
        "---\n",
        "---\n",
        "## 1. What are data structures, and why are they important?\n",
        "Data structures are ways of organizing, managing, and storing data so that it can be accessed and modified efficiently. They are important because:\n",
        "\n",
        "-> They help optimize the use of memory.\n",
        "\n",
        "-> They allow for efficient data retrieval and manipulation.\n",
        "\n",
        "-> They are foundational to algorithms, enabling solutions to\n",
        "   complex problems.\n",
        "\n",
        "    Examples: Arrays, Lists, Stacks, Queues, Linked Lists, Trees, Graphs, and Hash Tables.\n",
        "---\n",
        "## 2. Explain the difference between mutable and immutable data types with examples.\n",
        "Mutable: Can be changed after creation.  \n",
        "Example: Lists, Dictionaries.\n",
        "\n",
        "    my_list = [4, 2, 3]\n",
        "    my_list[0] = 10  # Modifies the list\n",
        "    print(my_list)  # Output: [10, 2, 3]\n",
        "\n",
        "Immutable: Cannot be changed after creation.  \n",
        "Example: Tuples, Strings.\n",
        "\n",
        "    my_string = \"hello\"\n",
        "    my_string[0] = 'H'  # Error: Strings are immutable\n",
        "---\n",
        "## 3. What are the main differences between lists and tuples in Python\n",
        "Lists\n",
        "\n",
        "Mutable: Change elements after creation.  \n",
        "Syntax: []  \n",
        "Use: Changing data.  \n",
        "\n",
        "Tuples  \n",
        "Immutable: Can't change elements.  \n",
        "Syntax: ()  \n",
        "Use: Data that shouldn't change.\n",
        "\n",
        "---\n",
        "## 4. Describe how dictionaries store data.\n",
        "Dictionaries store data as key-value pairs using a hash table. Keys are hashed to unique indices, enabling fast lookups.\n",
        "\n",
        "    my_dict = {\"name\": \"Faiz\", \"age\": 20}\n",
        "    print(my_dict[\"name\"])  # Access via key\n",
        "\n",
        "\n",
        "---\n",
        "## 5. Why might you use a set instead of a list in Python?\n",
        "Advantages of sets over lists:  \n",
        "Automatically removes duplicate values.   \n",
        "Faster operations for checking membership (in).\n",
        "\n",
        "    my_list = [1, 2, 2, 3]\n",
        "    my_set = set(my_list)\n",
        "    print(my_set)  # Output: {1, 2, 3}\n",
        "\n",
        "---\n",
        "## 6. What is a string in Python, and how is it different from a list?\n",
        "A string is an immutable sequence of characters, while a list is a mutable sequence of elements.     \n",
        "string:\n",
        "\n",
        "    my_string = \"hello\"\n",
        "    print(my_string[0])  # Access 'h'\n",
        "    # Cannot modify directly\n",
        "\n",
        "list:\n",
        "\n",
        "    my_list = ['h', 'e', 'l', 'l', 'o']\n",
        "    my_list[0] = 'H'  # Can modify directly\n",
        "    print(my_list)  # Output: ['H', 'e', 'l', 'l', 'o']\n",
        "\n",
        "---\n",
        "## 7. How do tuples ensure data integrity in Python?\n",
        "Tuples are immutable, so their content cannot be changed. This ensures data integrity by preventing accidental modifications.\n",
        "\n",
        "---\n",
        "## 8. What is a hash table, and how does it relate to dictionaries in Python?\n",
        "A hash table is a data structure that maps keys to values using a hash function. Dictionaries in Python use hash tables to provide average O(1) time complexity for key lookups.\n",
        "\n",
        "---\n",
        "\n",
        "## 9. Can lists contain different data types in Python?\n",
        "Yes, lists can contain elements of varying data types.\n",
        "\n",
        "    my_list = [1, \"Faiz\", 3.14]\n",
        "    print(my_list)  # Output: [1, 'Faiz', 3.14]\n",
        "\n",
        "---\n",
        "\n",
        "## 10. Explain why strings are immutable in Python?\n",
        "Strings are immutable to improve performance and security. Since they are often used as keys in dictionaries, immutability ensures they remain hashable and consistent.\n",
        "\n",
        "---\n",
        "\n",
        "## 11. What advantages do dictionaries offer over lists for certain tasks?\n",
        "Faster lookups by key (O(1) vs O(n)).     \n",
        "Data is stored as key-value pairs, making it more intuitive for mapping relationships.\n",
        "\n",
        "---\n",
        "## 12. Describe a scenario where using a tuple would be preferable over a list.\n",
        "Use a tuple when the data should not change, like coordinates\n",
        "or configuration values.\n",
        "\n",
        "    coordinates = (10, 20)\n",
        "\n",
        "---\n",
        "## 13. How do sets handle duplicate values in Python?\n",
        "Sets automatically remove duplicates.\n",
        "\n",
        "    my_set = {9, 5, 6, 7, 7, 8, 9}\n",
        "    print(my_set)  # Output: {9, 5, 6, 7, 8}\n",
        "\n",
        "---\n",
        "## 14. How does the “in” keyword work differently for lists and dictionaries?\n",
        "List: Checks for existence of a value\n",
        "\n",
        "    print(3 in [1, 2, 3])  # True\n",
        "\n",
        "Dictionary: Checks for existence of a key.\n",
        "\n",
        "    my_dict = {\"a\": 1, \"b\": 2}\n",
        "    print(\"a\" in my_dict)  # True\n",
        "\n",
        "---\n",
        "## 15. Can you modify the elements of a tuple? Explain why or why not\n",
        "No, you cannot modify elements of a tuple in Python. This is because tuples are immutable, meaning their elements cannot be changed, added, or removed after the tuple is created.\n",
        "\n",
        "---\n",
        "## 16. What is a nested dictionary, and give an example of its use case?\n",
        "A dictionary inside another dictionary.\n",
        "\n",
        "    students = {\n",
        "        \"Faiz\": {\"age\": 20, \"grade\": \"A\"},\n",
        "        \"Abdul\": {\"age\": 22, \"grade\": \"B\"}\n",
        "    }\n",
        "    print(students[\"Alice\"][\"age\"])  # Output: 20\n",
        "\n",
        "---\n",
        "## 17. Describe the time complexity of accessing elements in a dictionary.\n",
        "Accessing an element by key has an average time complexity of O(1) due to hashing.\n",
        "\n",
        "---\n",
        "## 18. In what situations are lists preferred over dictionaries?\n",
        "-> When order is important.    \n",
        "-> When you need sequential access.   \n",
        "-> When there are no unique keys required.\n",
        "\n",
        "---\n",
        "## 19. Why are dictionaries considered unordered, and how does that affect data retrieval?\n",
        "Dictionaries are considered unordered because they are designed to prioritize fast lookups and insertions rather than maintaining the order of elements. Internally, dictionaries use a hash table to store key-value pairs. The order in which items are stored depends on how the keys are hashed and distributed across memory, rather than the order they are added.  \n",
        "\n",
        "-> Being unordered affect data retrieval in followings ways:   \n",
        "No Sequential Access by Index.            \n",
        "Randomized Order.                        \n",
        "Key-Based Retrieval.\n",
        "\n",
        "---\n",
        "## 20. Explain the difference between a list and a dictionary in terms of data retrieval.\n",
        "List: Retrieval by index (O(1)).           \n",
        "Dictionary: Retrieval by key (O(1)).   \n",
        "\n",
        "---\n",
        "\n",
        "# Practical Answers\n",
        "---\n",
        "---\n",
        "## 1. Write a code to create a string with your name and print it."
      ]
    },
    {
      "cell_type": "code",
      "execution_count": 1,
      "metadata": {
        "id": "TO89wQuScPtJ"
      },
      "outputs": [],
      "source": [
        "name = \"Md Faiz Alam\"\n",
        "print(name)\n",
        "# output = Md Faiz Alam"
      ]
    },
    {
      "cell_type": "markdown",
      "metadata": {
        "id": "dWq5-6ygc2g_"
      },
      "source": [
        "## 2. Write a code to find the length of the string \"Hello World\"."
      ]
    },
    {
      "cell_type": "code",
      "execution_count": null,
      "metadata": {
        "id": "VGs75XRudAQm"
      },
      "outputs": [],
      "source": [
        "my_string = \"Hello World\"\n",
        "length = len(my_string)\n",
        "print(\"The length of the string is:\",length)\n",
        "# output = The lenght of the string is: 11"
      ]
    },
    {
      "cell_type": "markdown",
      "metadata": {
        "id": "XHMhKEUkd17T"
      },
      "source": [
        "## 3. Write a code to slice the first 3 characters from the string \"Python Programming\"."
      ]
    },
    {
      "cell_type": "code",
      "execution_count": null,
      "metadata": {
        "id": "YAVLmYI0d9Ir"
      },
      "outputs": [],
      "source": [
        "my_string = \"Python Programming\"\n",
        "slice_string = my_string[:3]\n",
        "print(slice_string)\n",
        "# output = Pyt"
      ]
    },
    {
      "cell_type": "markdown",
      "metadata": {
        "id": "dX2sCv29fAcP"
      },
      "source": [
        "## 4. Write a code to convert the string \"hello\" to uppercase."
      ]
    },
    {
      "cell_type": "code",
      "execution_count": null,
      "metadata": {
        "id": "GwVwVMchfGQv"
      },
      "outputs": [],
      "source": [
        "my_string = \"hello\"\n",
        "print(my_string.upper()) # output = HELLO"
      ]
    },
    {
      "cell_type": "markdown",
      "metadata": {
        "id": "7oEzhFQxfbkV"
      },
      "source": [
        "## 5. Write a code to replace the word \"apple\" with \"orange\" in the string \"I like apple\"."
      ]
    },
    {
      "cell_type": "code",
      "execution_count": null,
      "metadata": {
        "id": "eltW-pPSfnSV"
      },
      "outputs": [],
      "source": [
        "my_string = \"I like apple\"\n",
        "new_string = my_string.replace(\"apple\", \"orange\")\n",
        "print(new_string)\n",
        "# output = I like orange"
      ]
    },
    {
      "cell_type": "markdown",
      "metadata": {
        "id": "T9vLO7jdf7Dj"
      },
      "source": [
        "## 6. Write a code to create a list with numbers 1 to 5 and print it."
      ]
    },
    {
      "cell_type": "code",
      "execution_count": null,
      "metadata": {
        "id": "x9yU6aV9gGHL"
      },
      "outputs": [],
      "source": [
        "my_list = [1, 2, 3, 4, 5]\n",
        "print(my_list)\n",
        "# output = [1, 2, 3, 4, 5]"
      ]
    },
    {
      "cell_type": "markdown",
      "metadata": {
        "id": "As1zV_vbglSC"
      },
      "source": [
        "## 7. Write a code to append the number 10 to the list [1, 2, 3, 4]"
      ]
    },
    {
      "cell_type": "code",
      "execution_count": null,
      "metadata": {
        "id": "YNvqn0tigv4J"
      },
      "outputs": [],
      "source": [
        "my_list = [1, 2, 3, 4]\n",
        "# Append the number 10\n",
        "my_list.append(10)\n",
        "print(my_list)\n",
        "# output = [1, 2, 3, 4, 10]"
      ]
    },
    {
      "cell_type": "markdown",
      "metadata": {
        "id": "eQvFuy9GhKj3"
      },
      "source": [
        "## 8. Write a code to remove the number 3 from the list [1, 2, 3, 4, 5]."
      ]
    },
    {
      "cell_type": "code",
      "execution_count": null,
      "metadata": {
        "id": "HJ5xZ0CchRMH"
      },
      "outputs": [],
      "source": [
        "my_list = [1, 2, 3, 4, 5]\n",
        "# Remove the number 3\n",
        "my_list.remove(3)\n",
        "print(my_list)\n",
        "# output = [1, 2, 4, 5]"
      ]
    },
    {
      "cell_type": "markdown",
      "metadata": {
        "id": "xV7GgLt8hiDG"
      },
      "source": [
        "## 9. Write a code to access the second element in the list ['a', 'b', 'c', 'd']."
      ]
    },
    {
      "cell_type": "code",
      "execution_count": null,
      "metadata": {
        "id": "x3ZOw2HThpr-"
      },
      "outputs": [],
      "source": [
        "my_list = ['a', 'b', 'c', 'd']\n",
        "# Access the second element (index 1)\n",
        "second_element = my_list[1]\n",
        "print(second_element)\n",
        "# output = b"
      ]
    },
    {
      "cell_type": "markdown",
      "metadata": {
        "id": "0ToQDIvgiDdM"
      },
      "source": [
        "## 10. Write a code to reverse the list [10, 20, 30, 40, 50]."
      ]
    },
    {
      "cell_type": "code",
      "execution_count": null,
      "metadata": {
        "id": "F80JFwUIiJY0"
      },
      "outputs": [],
      "source": [
        "my_list = [10, 20, 30, 40, 50]\n",
        "# Reverse the list\n",
        "my_list.reverse()\n",
        "print(my_list)\n",
        "# output = [50, 40, 30, 20, 10]"
      ]
    },
    {
      "cell_type": "markdown",
      "metadata": {
        "id": "QuVqvrM_imoD"
      },
      "source": [
        "## 11. Write a code to create a tuple with the elements 10, 20, 30 and print it."
      ]
    },
    {
      "cell_type": "code",
      "execution_count": null,
      "metadata": {
        "id": "47R--MjVis_6"
      },
      "outputs": [],
      "source": [
        "my_tuple = (10, 20, 30)\n",
        "print(my_tuple)\n",
        "# outtput = (10, 20, 30)"
      ]
    },
    {
      "cell_type": "markdown",
      "metadata": {
        "id": "L0igQEoBjA95"
      },
      "source": [
        "## 12. Write a code to access the first element of the tuple ('apple', 'banana', 'cherry')."
      ]
    },
    {
      "cell_type": "code",
      "execution_count": null,
      "metadata": {
        "id": "P0bTZAktjGtp"
      },
      "outputs": [],
      "source": [
        "my_tuple = ('apple', 'banana', 'cherry')\n",
        "first_element = my_tuple[0]\n",
        "print(first_element)\n",
        "# output = apple"
      ]
    },
    {
      "cell_type": "markdown",
      "metadata": {
        "id": "iyaoaWszjTtw"
      },
      "source": [
        "## 13. Write a code to count how many times the number 2 appears in the tuple (1, 2, 3, 2, 4, 2)."
      ]
    },
    {
      "cell_type": "code",
      "execution_count": null,
      "metadata": {
        "id": "x0Dlo6uWjaOB"
      },
      "outputs": [],
      "source": [
        "my_tuple = (1, 2, 3, 2, 4, 2)\n",
        "count_2 = my_tuple.count(2)\n",
        "print(count_2)\n",
        "# output = 3"
      ]
    },
    {
      "cell_type": "markdown",
      "metadata": {
        "id": "Dzr3Ikc_jufu"
      },
      "source": [
        "## 14.  Write a code to find the index of the element \"cat\" in the tuple ('dog', 'cat', 'rabbit')."
      ]
    },
    {
      "cell_type": "code",
      "execution_count": null,
      "metadata": {
        "id": "8q6oZ8C0j282"
      },
      "outputs": [],
      "source": [
        "my_tuple = ('dog', 'cat', 'rabbit')\n",
        "# Find the index of the element \"cat\"\n",
        "index_of_cat = my_tuple.index('cat')\n",
        "print(index_of_cat)\n",
        "# output = 1"
      ]
    },
    {
      "cell_type": "markdown",
      "metadata": {
        "id": "X-XY9kyWkFsN"
      },
      "source": [
        "## 15. Write a code to check if the element \"banana\" is in the tuple ('apple', 'orange', 'banana')."
      ]
    },
    {
      "cell_type": "code",
      "execution_count": null,
      "metadata": {
        "id": "6nkR9iUakMCt"
      },
      "outputs": [],
      "source": [
        "my_tuple = ('apple', 'orange', 'banana')\n",
        "# Check if \"banana\" is in the tuple\n",
        "is_banana_in_tuple = 'banana' in my_tuple\n",
        "print(is_banana_in_tuple)\n",
        "# output = True"
      ]
    },
    {
      "cell_type": "markdown",
      "metadata": {
        "id": "4R9dOaLikaZ0"
      },
      "source": [
        "## 16. Write a code to create a set with the elements 1, 2, 3, 4, 5 and print it."
      ]
    },
    {
      "cell_type": "code",
      "execution_count": null,
      "metadata": {
        "id": "YcGRUxwpkh3T"
      },
      "outputs": [],
      "source": [
        "my_set = {1, 2, 3, 4, 5}\n",
        "print(my_set)\n",
        "# output = {1, 2, 3, 4, 5}"
      ]
    },
    {
      "cell_type": "markdown",
      "metadata": {
        "id": "SIdAQ6Qapm_a"
      },
      "source": [
        "## 17. Write a code to add the element 6 to the set {1, 2, 3, 4}."
      ]
    },
    {
      "cell_type": "code",
      "execution_count": null,
      "metadata": {
        "id": "vg494r-0ptHi"
      },
      "outputs": [],
      "source": [
        "my_set = {1, 2, 3, 4}\n",
        "my_set.add(6)\n",
        "print(my_set)\n",
        "# output = {1, 2, 3, 4, 6}"
      ]
    },
    {
      "cell_type": "markdown",
      "metadata": {
        "id": "2Yi_4_NSqAOJ"
      },
      "source": [
        "## 18.Write a code to create a tuple with the elements 10, 20, 30 and print it."
      ]
    },
    {
      "cell_type": "code",
      "execution_count": null,
      "metadata": {
        "id": "9HJnolOkqHJ4"
      },
      "outputs": [],
      "source": [
        "my_tuple = (10, 20, 30)\n",
        "print(my_tuple)\n",
        "# output = (10, 20, 30)"
      ]
    },
    {
      "cell_type": "markdown",
      "metadata": {
        "id": "Pfn2c_09qQ1w"
      },
      "source": [
        "## 19. Write a code to access the first element of the tuple ('apple', 'banana', 'cherry')."
      ]
    },
    {
      "cell_type": "code",
      "execution_count": null,
      "metadata": {
        "id": "oRSnPQbQqWcv"
      },
      "outputs": [],
      "source": [
        "my_tuple = ('apple', 'banana', 'cherry')\n",
        "first_element = my_tuple[0]\n",
        "print(first_element)\n",
        "# output = apple"
      ]
    },
    {
      "cell_type": "markdown",
      "metadata": {
        "id": "nWyzTi1UqjGP"
      },
      "source": [
        "## 20. Write a code to count how many times the number 2 appears in the tuple (1, 2, 3, 2, 4, 2)."
      ]
    },
    {
      "cell_type": "code",
      "execution_count": null,
      "metadata": {
        "id": "R0eQFDoDqo52"
      },
      "outputs": [],
      "source": [
        "my_tuple = (1, 2, 3, 2, 4, 2)\n",
        "count_2 = my_tuple.count(2)\n",
        "print(count_2)\n",
        "# output = 3"
      ]
    },
    {
      "cell_type": "markdown",
      "metadata": {
        "id": "rDgm75eIq8l2"
      },
      "source": [
        "## 21. Write a code to find the index of the element \"cat\" in the tuple ('dog', 'cat', 'rabbit')."
      ]
    },
    {
      "cell_type": "code",
      "execution_count": null,
      "metadata": {
        "id": "7vAdL8HJrBY1"
      },
      "outputs": [],
      "source": [
        "my_tuple = ('dog', 'cat', 'rabbit')\n",
        "# Find the index of the element \"cat\"\n",
        "index_of_cat = my_tuple.index('cat')\n",
        "print(index_of_cat)\n",
        "# output = 1"
      ]
    },
    {
      "cell_type": "markdown",
      "metadata": {
        "id": "5XT0awferM6a"
      },
      "source": [
        "## 22. Write a code to check if the element \"banana\" is in the tuple ('apple', 'orange', 'banana')."
      ]
    },
    {
      "cell_type": "code",
      "execution_count": null,
      "metadata": {
        "id": "l4WSbCiarVQ8"
      },
      "outputs": [],
      "source": [
        "my_tuple = ('apple', 'orange', 'banana')\n",
        "is_banana_in_tuple = 'banana' in my_tuple\n",
        "print(is_banana_in_tuple)\n",
        "#output = True"
      ]
    },
    {
      "cell_type": "markdown",
      "metadata": {
        "id": "rOF8_2LUren7"
      },
      "source": [
        "## 23. Write a code to create a set with the elements 1, 2, 3, 4, 5 and print it."
      ]
    },
    {
      "cell_type": "code",
      "execution_count": null,
      "metadata": {
        "id": "cFDNsOOfri8k"
      },
      "outputs": [],
      "source": [
        "my_set = {1, 2, 3, 4, 5}\n",
        "print(my_set)\n",
        "# output = {1, 2, 3, 4, 5}"
      ]
    },
    {
      "cell_type": "markdown",
      "metadata": {
        "id": "pHQzUTkNrtmT"
      },
      "source": [
        "## 24. Write a code to add the element 6 to the set {1, 2, 3, 4}."
      ]
    },
    {
      "cell_type": "code",
      "execution_count": null,
      "metadata": {
        "id": "zIK0TRNzr0f6"
      },
      "outputs": [],
      "source": [
        "my_set = {1, 2, 3, 4}\n",
        "my_set.add(6)\n",
        "print(my_set)\n",
        "# output = {1, 2, 3, 4, 6}"
      ]
    },
    {
      "cell_type": "markdown",
      "metadata": {
        "id": "tzhbZmogsCaC"
      },
      "source": [
        "# Thank You!"
      ]
    }
  ],
  "metadata": {
    "colab": {
      "provenance": []
    },
    "kernelspec": {
      "display_name": "Python 3",
      "name": "python3"
    },
    "language_info": {
      "codemirror_mode": {
        "name": "ipython",
        "version": 3
      },
      "file_extension": ".py",
      "mimetype": "text/x-python",
      "name": "python",
      "nbconvert_exporter": "python",
      "pygments_lexer": "ipython3",
      "version": "3.13.1"
    }
  },
  "nbformat": 4,
  "nbformat_minor": 0
}
